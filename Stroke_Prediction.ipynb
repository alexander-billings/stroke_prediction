{
  "cells": [
    {
      "cell_type": "markdown",
      "metadata": {},
      "source": [
        "# Stroke Prediction Analysis"
      ]
    },
    {
      "cell_type": "code",
      "execution_count": 1,
      "metadata": {
        "id": "pVclyiClOcR7"
      },
      "outputs": [],
      "source": [
        "# Import modules for data analysis\n",
        "import pandas as pd"
      ]
    },
    {
      "cell_type": "code",
      "execution_count": 2,
      "metadata": {
        "colab": {
          "base_uri": "https://localhost:8080/",
          "height": 206
        },
        "id": "5aP6pNbKRja9",
        "outputId": "014e1b11-139e-4c4a-c899-0a0e39620c44"
      },
      "outputs": [
        {
          "data": {
            "text/html": [
              "<div>\n",
              "<style scoped>\n",
              "    .dataframe tbody tr th:only-of-type {\n",
              "        vertical-align: middle;\n",
              "    }\n",
              "\n",
              "    .dataframe tbody tr th {\n",
              "        vertical-align: top;\n",
              "    }\n",
              "\n",
              "    .dataframe thead th {\n",
              "        text-align: right;\n",
              "    }\n",
              "</style>\n",
              "<table border=\"1\" class=\"dataframe\">\n",
              "  <thead>\n",
              "    <tr style=\"text-align: right;\">\n",
              "      <th></th>\n",
              "      <th>gender</th>\n",
              "      <th>age</th>\n",
              "      <th>hypertension</th>\n",
              "      <th>heart_disease</th>\n",
              "      <th>ever_married</th>\n",
              "      <th>work_type</th>\n",
              "      <th>Residence_type</th>\n",
              "      <th>avg_glucose_level</th>\n",
              "      <th>bmi</th>\n",
              "      <th>smoking_status</th>\n",
              "      <th>stroke</th>\n",
              "    </tr>\n",
              "    <tr>\n",
              "      <th>id</th>\n",
              "      <th></th>\n",
              "      <th></th>\n",
              "      <th></th>\n",
              "      <th></th>\n",
              "      <th></th>\n",
              "      <th></th>\n",
              "      <th></th>\n",
              "      <th></th>\n",
              "      <th></th>\n",
              "      <th></th>\n",
              "      <th></th>\n",
              "    </tr>\n",
              "  </thead>\n",
              "  <tbody>\n",
              "    <tr>\n",
              "      <th>9046</th>\n",
              "      <td>Male</td>\n",
              "      <td>67.0</td>\n",
              "      <td>0</td>\n",
              "      <td>1</td>\n",
              "      <td>Yes</td>\n",
              "      <td>Private</td>\n",
              "      <td>Urban</td>\n",
              "      <td>228.69</td>\n",
              "      <td>36.6</td>\n",
              "      <td>formerly smoked</td>\n",
              "      <td>1</td>\n",
              "    </tr>\n",
              "    <tr>\n",
              "      <th>51676</th>\n",
              "      <td>Female</td>\n",
              "      <td>61.0</td>\n",
              "      <td>0</td>\n",
              "      <td>0</td>\n",
              "      <td>Yes</td>\n",
              "      <td>Self-employed</td>\n",
              "      <td>Rural</td>\n",
              "      <td>202.21</td>\n",
              "      <td>NaN</td>\n",
              "      <td>never smoked</td>\n",
              "      <td>1</td>\n",
              "    </tr>\n",
              "    <tr>\n",
              "      <th>31112</th>\n",
              "      <td>Male</td>\n",
              "      <td>80.0</td>\n",
              "      <td>0</td>\n",
              "      <td>1</td>\n",
              "      <td>Yes</td>\n",
              "      <td>Private</td>\n",
              "      <td>Rural</td>\n",
              "      <td>105.92</td>\n",
              "      <td>32.5</td>\n",
              "      <td>never smoked</td>\n",
              "      <td>1</td>\n",
              "    </tr>\n",
              "    <tr>\n",
              "      <th>60182</th>\n",
              "      <td>Female</td>\n",
              "      <td>49.0</td>\n",
              "      <td>0</td>\n",
              "      <td>0</td>\n",
              "      <td>Yes</td>\n",
              "      <td>Private</td>\n",
              "      <td>Urban</td>\n",
              "      <td>171.23</td>\n",
              "      <td>34.4</td>\n",
              "      <td>smokes</td>\n",
              "      <td>1</td>\n",
              "    </tr>\n",
              "    <tr>\n",
              "      <th>1665</th>\n",
              "      <td>Female</td>\n",
              "      <td>79.0</td>\n",
              "      <td>1</td>\n",
              "      <td>0</td>\n",
              "      <td>Yes</td>\n",
              "      <td>Self-employed</td>\n",
              "      <td>Rural</td>\n",
              "      <td>174.12</td>\n",
              "      <td>24.0</td>\n",
              "      <td>never smoked</td>\n",
              "      <td>1</td>\n",
              "    </tr>\n",
              "  </tbody>\n",
              "</table>\n",
              "</div>"
            ],
            "text/plain": [
              "       gender   age  hypertension  heart_disease ever_married      work_type  \\\n",
              "id                                                                             \n",
              "9046     Male  67.0             0              1          Yes        Private   \n",
              "51676  Female  61.0             0              0          Yes  Self-employed   \n",
              "31112    Male  80.0             0              1          Yes        Private   \n",
              "60182  Female  49.0             0              0          Yes        Private   \n",
              "1665   Female  79.0             1              0          Yes  Self-employed   \n",
              "\n",
              "      Residence_type  avg_glucose_level   bmi   smoking_status  stroke  \n",
              "id                                                                      \n",
              "9046           Urban             228.69  36.6  formerly smoked       1  \n",
              "51676          Rural             202.21   NaN     never smoked       1  \n",
              "31112          Rural             105.92  32.5     never smoked       1  \n",
              "60182          Urban             171.23  34.4           smokes       1  \n",
              "1665           Rural             174.12  24.0     never smoked       1  "
            ]
          },
          "execution_count": 2,
          "metadata": {},
          "output_type": "execute_result"
        }
      ],
      "source": [
        "# Load the data and preview the first 5 rows to ensure the data is loaded correctly\n",
        "link_to_file = \"https://raw.githubusercontent.com/alexander-billings/stroke_prediction/main/stroke_data.csv\"\n",
        "df = pd.read_csv(link_to_file, index_col = 'id')\n",
        "df.head()"
      ]
    },
    {
      "cell_type": "markdown",
      "metadata": {},
      "source": [
        "# Data Cleaning"
      ]
    },
    {
      "cell_type": "code",
      "execution_count": 3,
      "metadata": {
        "id": "Y27YAgzhSHU-"
      },
      "outputs": [
        {
          "name": "stdout",
          "output_type": "stream",
          "text": [
            "<class 'pandas.core.frame.DataFrame'>\n",
            "Int64Index: 5110 entries, 9046 to 44679\n",
            "Data columns (total 11 columns):\n",
            " #   Column             Non-Null Count  Dtype  \n",
            "---  ------             --------------  -----  \n",
            " 0   gender             5110 non-null   object \n",
            " 1   age                5110 non-null   float64\n",
            " 2   hypertension       5110 non-null   int64  \n",
            " 3   heart_disease      5110 non-null   int64  \n",
            " 4   ever_married       5110 non-null   object \n",
            " 5   work_type          5110 non-null   object \n",
            " 6   Residence_type     5110 non-null   object \n",
            " 7   avg_glucose_level  5110 non-null   float64\n",
            " 8   bmi                4909 non-null   float64\n",
            " 9   smoking_status     5110 non-null   object \n",
            " 10  stroke             5110 non-null   int64  \n",
            "dtypes: float64(3), int64(3), object(5)\n",
            "memory usage: 479.1+ KB\n"
          ]
        }
      ],
      "source": [
        "# Inspect the data types of the columns\n",
        "df.info()"
      ]
    },
    {
      "cell_type": "code",
      "execution_count": 4,
      "metadata": {},
      "outputs": [
        {
          "data": {
            "text/html": [
              "<div>\n",
              "<style scoped>\n",
              "    .dataframe tbody tr th:only-of-type {\n",
              "        vertical-align: middle;\n",
              "    }\n",
              "\n",
              "    .dataframe tbody tr th {\n",
              "        vertical-align: top;\n",
              "    }\n",
              "\n",
              "    .dataframe thead th {\n",
              "        text-align: right;\n",
              "    }\n",
              "</style>\n",
              "<table border=\"1\" class=\"dataframe\">\n",
              "  <thead>\n",
              "    <tr style=\"text-align: right;\">\n",
              "      <th></th>\n",
              "      <th>age</th>\n",
              "      <th>hypertension</th>\n",
              "      <th>heart_disease</th>\n",
              "      <th>avg_glucose_level</th>\n",
              "      <th>bmi</th>\n",
              "      <th>stroke</th>\n",
              "    </tr>\n",
              "  </thead>\n",
              "  <tbody>\n",
              "    <tr>\n",
              "      <th>count</th>\n",
              "      <td>5110.000000</td>\n",
              "      <td>5110.000000</td>\n",
              "      <td>5110.000000</td>\n",
              "      <td>5110.000000</td>\n",
              "      <td>4909.000000</td>\n",
              "      <td>5110.000000</td>\n",
              "    </tr>\n",
              "    <tr>\n",
              "      <th>mean</th>\n",
              "      <td>43.226614</td>\n",
              "      <td>0.097456</td>\n",
              "      <td>0.054012</td>\n",
              "      <td>106.147677</td>\n",
              "      <td>28.893237</td>\n",
              "      <td>0.048728</td>\n",
              "    </tr>\n",
              "    <tr>\n",
              "      <th>std</th>\n",
              "      <td>22.612647</td>\n",
              "      <td>0.296607</td>\n",
              "      <td>0.226063</td>\n",
              "      <td>45.283560</td>\n",
              "      <td>7.854067</td>\n",
              "      <td>0.215320</td>\n",
              "    </tr>\n",
              "    <tr>\n",
              "      <th>min</th>\n",
              "      <td>0.080000</td>\n",
              "      <td>0.000000</td>\n",
              "      <td>0.000000</td>\n",
              "      <td>55.120000</td>\n",
              "      <td>10.300000</td>\n",
              "      <td>0.000000</td>\n",
              "    </tr>\n",
              "    <tr>\n",
              "      <th>25%</th>\n",
              "      <td>25.000000</td>\n",
              "      <td>0.000000</td>\n",
              "      <td>0.000000</td>\n",
              "      <td>77.245000</td>\n",
              "      <td>23.500000</td>\n",
              "      <td>0.000000</td>\n",
              "    </tr>\n",
              "    <tr>\n",
              "      <th>50%</th>\n",
              "      <td>45.000000</td>\n",
              "      <td>0.000000</td>\n",
              "      <td>0.000000</td>\n",
              "      <td>91.885000</td>\n",
              "      <td>28.100000</td>\n",
              "      <td>0.000000</td>\n",
              "    </tr>\n",
              "    <tr>\n",
              "      <th>75%</th>\n",
              "      <td>61.000000</td>\n",
              "      <td>0.000000</td>\n",
              "      <td>0.000000</td>\n",
              "      <td>114.090000</td>\n",
              "      <td>33.100000</td>\n",
              "      <td>0.000000</td>\n",
              "    </tr>\n",
              "    <tr>\n",
              "      <th>max</th>\n",
              "      <td>82.000000</td>\n",
              "      <td>1.000000</td>\n",
              "      <td>1.000000</td>\n",
              "      <td>271.740000</td>\n",
              "      <td>97.600000</td>\n",
              "      <td>1.000000</td>\n",
              "    </tr>\n",
              "  </tbody>\n",
              "</table>\n",
              "</div>"
            ],
            "text/plain": [
              "               age  hypertension  heart_disease  avg_glucose_level  \\\n",
              "count  5110.000000   5110.000000    5110.000000        5110.000000   \n",
              "mean     43.226614      0.097456       0.054012         106.147677   \n",
              "std      22.612647      0.296607       0.226063          45.283560   \n",
              "min       0.080000      0.000000       0.000000          55.120000   \n",
              "25%      25.000000      0.000000       0.000000          77.245000   \n",
              "50%      45.000000      0.000000       0.000000          91.885000   \n",
              "75%      61.000000      0.000000       0.000000         114.090000   \n",
              "max      82.000000      1.000000       1.000000         271.740000   \n",
              "\n",
              "               bmi       stroke  \n",
              "count  4909.000000  5110.000000  \n",
              "mean     28.893237     0.048728  \n",
              "std       7.854067     0.215320  \n",
              "min      10.300000     0.000000  \n",
              "25%      23.500000     0.000000  \n",
              "50%      28.100000     0.000000  \n",
              "75%      33.100000     0.000000  \n",
              "max      97.600000     1.000000  "
            ]
          },
          "execution_count": 4,
          "metadata": {},
          "output_type": "execute_result"
        }
      ],
      "source": [
        "# Inspect the numerical data for abnormalities\n",
        "df.describe()"
      ]
    },
    {
      "cell_type": "markdown",
      "metadata": {},
      "source": [
        "## Are there columns that should be dropped?\n",
        "\n",
        "### None at a glance"
      ]
    },
    {
      "cell_type": "markdown",
      "metadata": {},
      "source": [
        "## Are there duplicate columns?"
      ]
    },
    {
      "cell_type": "code",
      "execution_count": 5,
      "metadata": {},
      "outputs": [
        {
          "data": {
            "text/plain": [
              "0"
            ]
          },
          "execution_count": 5,
          "metadata": {},
          "output_type": "execute_result"
        }
      ],
      "source": [
        "df.duplicated().sum()"
      ]
    },
    {
      "cell_type": "markdown",
      "metadata": {},
      "source": [
        "### No duplicate rows found"
      ]
    },
    {
      "cell_type": "markdown",
      "metadata": {},
      "source": [
        "## Are there any rows with missing data?"
      ]
    },
    {
      "cell_type": "code",
      "execution_count": 6,
      "metadata": {},
      "outputs": [
        {
          "data": {
            "text/plain": [
              "gender                 0\n",
              "age                    0\n",
              "hypertension           0\n",
              "heart_disease          0\n",
              "ever_married           0\n",
              "work_type              0\n",
              "Residence_type         0\n",
              "avg_glucose_level      0\n",
              "bmi                  201\n",
              "smoking_status         0\n",
              "stroke                 0\n",
              "dtype: int64"
            ]
          },
          "execution_count": 6,
          "metadata": {},
          "output_type": "execute_result"
        }
      ],
      "source": [
        "# Inspect the data for null values\n",
        "df.isna().sum()"
      ]
    },
    {
      "cell_type": "code",
      "execution_count": 7,
      "metadata": {},
      "outputs": [],
      "source": [
        "# Drop the missing data\n",
        "df.drop(df.loc[df['bmi'].isna()].index, inplace=True)"
      ]
    },
    {
      "cell_type": "markdown",
      "metadata": {},
      "source": [
        "### Dropped rows with missing data\n",
        "Considering it was only 201 rows with missing data in the bmi column, I went ahead and dropped it. I will return to this if balance starts to impact model performance."
      ]
    },
    {
      "cell_type": "markdown",
      "metadata": {},
      "source": [
        "## Are there any inconsistent categories?"
      ]
    },
    {
      "cell_type": "code",
      "execution_count": 8,
      "metadata": {},
      "outputs": [
        {
          "name": "stdout",
          "output_type": "stream",
          "text": [
            "Values in gender\n",
            "Female    2897\n",
            "Male      2011\n",
            "Other        1\n",
            "Name: gender, dtype: int64 \n",
            "\n",
            "Values in ever_married\n",
            "Yes    3204\n",
            "No     1705\n",
            "Name: ever_married, dtype: int64 \n",
            "\n",
            "Values in work_type\n",
            "Private          2811\n",
            "Self-employed     775\n",
            "children          671\n",
            "Govt_job          630\n",
            "Never_worked       22\n",
            "Name: work_type, dtype: int64 \n",
            "\n",
            "Values in Residence_type\n",
            "Urban    2490\n",
            "Rural    2419\n",
            "Name: Residence_type, dtype: int64 \n",
            "\n",
            "Values in smoking_status\n",
            "never smoked       1852\n",
            "Unknown            1483\n",
            "formerly smoked     837\n",
            "smokes              737\n",
            "Name: smoking_status, dtype: int64 \n",
            "\n"
          ]
        }
      ],
      "source": [
        "# Iterate through each column that is an object and list the unique values with counts\n",
        "for column in df.columns:\n",
        "    if df[column].dtype == 'object':\n",
        "        print(\"Values in\", column)\n",
        "        print(df[column].value_counts(), '\\n')"
      ]
    },
    {
      "cell_type": "code",
      "execution_count": 9,
      "metadata": {},
      "outputs": [],
      "source": [
        "# Dropping gender outlier due to sample size of one\n",
        "df.drop(index=df.loc[df['gender'] == 'Other'].index, inplace=True)"
      ]
    },
    {
      "cell_type": "code",
      "execution_count": 10,
      "metadata": {},
      "outputs": [
        {
          "data": {
            "text/html": [
              "<div>\n",
              "<style scoped>\n",
              "    .dataframe tbody tr th:only-of-type {\n",
              "        vertical-align: middle;\n",
              "    }\n",
              "\n",
              "    .dataframe tbody tr th {\n",
              "        vertical-align: top;\n",
              "    }\n",
              "\n",
              "    .dataframe thead th {\n",
              "        text-align: right;\n",
              "    }\n",
              "</style>\n",
              "<table border=\"1\" class=\"dataframe\">\n",
              "  <thead>\n",
              "    <tr style=\"text-align: right;\">\n",
              "      <th></th>\n",
              "      <th>gender</th>\n",
              "      <th>age</th>\n",
              "      <th>hypertension</th>\n",
              "      <th>heart_disease</th>\n",
              "      <th>ever_married</th>\n",
              "      <th>work_type</th>\n",
              "      <th>Residence_type</th>\n",
              "      <th>avg_glucose_level</th>\n",
              "      <th>bmi</th>\n",
              "      <th>smoking_status</th>\n",
              "      <th>stroke</th>\n",
              "    </tr>\n",
              "    <tr>\n",
              "      <th>id</th>\n",
              "      <th></th>\n",
              "      <th></th>\n",
              "      <th></th>\n",
              "      <th></th>\n",
              "      <th></th>\n",
              "      <th></th>\n",
              "      <th></th>\n",
              "      <th></th>\n",
              "      <th></th>\n",
              "      <th></th>\n",
              "      <th></th>\n",
              "    </tr>\n",
              "  </thead>\n",
              "  <tbody>\n",
              "    <tr>\n",
              "      <th>60491</th>\n",
              "      <td>Female</td>\n",
              "      <td>78.0</td>\n",
              "      <td>0</td>\n",
              "      <td>0</td>\n",
              "      <td>Yes</td>\n",
              "      <td>Private</td>\n",
              "      <td>Urban</td>\n",
              "      <td>58.57</td>\n",
              "      <td>24.2</td>\n",
              "      <td>Unknown</td>\n",
              "      <td>1</td>\n",
              "    </tr>\n",
              "    <tr>\n",
              "      <th>64778</th>\n",
              "      <td>Male</td>\n",
              "      <td>82.0</td>\n",
              "      <td>0</td>\n",
              "      <td>1</td>\n",
              "      <td>Yes</td>\n",
              "      <td>Private</td>\n",
              "      <td>Rural</td>\n",
              "      <td>208.30</td>\n",
              "      <td>32.5</td>\n",
              "      <td>Unknown</td>\n",
              "      <td>1</td>\n",
              "    </tr>\n",
              "    <tr>\n",
              "      <th>33879</th>\n",
              "      <td>Male</td>\n",
              "      <td>42.0</td>\n",
              "      <td>0</td>\n",
              "      <td>0</td>\n",
              "      <td>Yes</td>\n",
              "      <td>Private</td>\n",
              "      <td>Rural</td>\n",
              "      <td>83.41</td>\n",
              "      <td>25.4</td>\n",
              "      <td>Unknown</td>\n",
              "      <td>1</td>\n",
              "    </tr>\n",
              "    <tr>\n",
              "      <th>47306</th>\n",
              "      <td>Male</td>\n",
              "      <td>58.0</td>\n",
              "      <td>0</td>\n",
              "      <td>0</td>\n",
              "      <td>No</td>\n",
              "      <td>Private</td>\n",
              "      <td>Rural</td>\n",
              "      <td>92.62</td>\n",
              "      <td>32.0</td>\n",
              "      <td>Unknown</td>\n",
              "      <td>1</td>\n",
              "    </tr>\n",
              "    <tr>\n",
              "      <th>72366</th>\n",
              "      <td>Male</td>\n",
              "      <td>76.0</td>\n",
              "      <td>0</td>\n",
              "      <td>0</td>\n",
              "      <td>Yes</td>\n",
              "      <td>Private</td>\n",
              "      <td>Urban</td>\n",
              "      <td>104.47</td>\n",
              "      <td>20.3</td>\n",
              "      <td>Unknown</td>\n",
              "      <td>1</td>\n",
              "    </tr>\n",
              "    <tr>\n",
              "      <th>42117</th>\n",
              "      <td>Male</td>\n",
              "      <td>43.0</td>\n",
              "      <td>0</td>\n",
              "      <td>0</td>\n",
              "      <td>Yes</td>\n",
              "      <td>Self-employed</td>\n",
              "      <td>Urban</td>\n",
              "      <td>143.43</td>\n",
              "      <td>45.9</td>\n",
              "      <td>Unknown</td>\n",
              "      <td>1</td>\n",
              "    </tr>\n",
              "    <tr>\n",
              "      <th>57419</th>\n",
              "      <td>Male</td>\n",
              "      <td>59.0</td>\n",
              "      <td>0</td>\n",
              "      <td>0</td>\n",
              "      <td>Yes</td>\n",
              "      <td>Private</td>\n",
              "      <td>Rural</td>\n",
              "      <td>96.16</td>\n",
              "      <td>44.1</td>\n",
              "      <td>Unknown</td>\n",
              "      <td>1</td>\n",
              "    </tr>\n",
              "    <tr>\n",
              "      <th>49130</th>\n",
              "      <td>Male</td>\n",
              "      <td>74.0</td>\n",
              "      <td>0</td>\n",
              "      <td>0</td>\n",
              "      <td>Yes</td>\n",
              "      <td>Private</td>\n",
              "      <td>Urban</td>\n",
              "      <td>98.55</td>\n",
              "      <td>25.6</td>\n",
              "      <td>Unknown</td>\n",
              "      <td>1</td>\n",
              "    </tr>\n",
              "    <tr>\n",
              "      <th>37726</th>\n",
              "      <td>Female</td>\n",
              "      <td>80.0</td>\n",
              "      <td>1</td>\n",
              "      <td>0</td>\n",
              "      <td>Yes</td>\n",
              "      <td>Self-employed</td>\n",
              "      <td>Urban</td>\n",
              "      <td>68.56</td>\n",
              "      <td>26.2</td>\n",
              "      <td>Unknown</td>\n",
              "      <td>1</td>\n",
              "    </tr>\n",
              "    <tr>\n",
              "      <th>12363</th>\n",
              "      <td>Male</td>\n",
              "      <td>64.0</td>\n",
              "      <td>0</td>\n",
              "      <td>1</td>\n",
              "      <td>Yes</td>\n",
              "      <td>Govt_job</td>\n",
              "      <td>Urban</td>\n",
              "      <td>74.10</td>\n",
              "      <td>28.8</td>\n",
              "      <td>Unknown</td>\n",
              "      <td>1</td>\n",
              "    </tr>\n",
              "  </tbody>\n",
              "</table>\n",
              "</div>"
            ],
            "text/plain": [
              "       gender   age  hypertension  heart_disease ever_married      work_type  \\\n",
              "id                                                                             \n",
              "60491  Female  78.0             0              0          Yes        Private   \n",
              "64778    Male  82.0             0              1          Yes        Private   \n",
              "33879    Male  42.0             0              0          Yes        Private   \n",
              "47306    Male  58.0             0              0           No        Private   \n",
              "72366    Male  76.0             0              0          Yes        Private   \n",
              "42117    Male  43.0             0              0          Yes  Self-employed   \n",
              "57419    Male  59.0             0              0          Yes        Private   \n",
              "49130    Male  74.0             0              0          Yes        Private   \n",
              "37726  Female  80.0             1              0          Yes  Self-employed   \n",
              "12363    Male  64.0             0              1          Yes       Govt_job   \n",
              "\n",
              "      Residence_type  avg_glucose_level   bmi smoking_status  stroke  \n",
              "id                                                                    \n",
              "60491          Urban              58.57  24.2        Unknown       1  \n",
              "64778          Rural             208.30  32.5        Unknown       1  \n",
              "33879          Rural              83.41  25.4        Unknown       1  \n",
              "47306          Rural              92.62  32.0        Unknown       1  \n",
              "72366          Urban             104.47  20.3        Unknown       1  \n",
              "42117          Urban             143.43  45.9        Unknown       1  \n",
              "57419          Rural              96.16  44.1        Unknown       1  \n",
              "49130          Urban              98.55  25.6        Unknown       1  \n",
              "37726          Urban              68.56  26.2        Unknown       1  \n",
              "12363          Urban              74.10  28.8        Unknown       1  "
            ]
          },
          "execution_count": 10,
          "metadata": {},
          "output_type": "execute_result"
        }
      ],
      "source": [
        "# Taking a glance at \"Unknown\" smokers\n",
        "df.loc[df['smoking_status'] == 'Unknown'].head(10)"
      ]
    },
    {
      "cell_type": "code",
      "execution_count": 11,
      "metadata": {},
      "outputs": [
        {
          "data": {
            "text/plain": [
              "0    1454\n",
              "1      29\n",
              "Name: stroke, dtype: int64"
            ]
          },
          "execution_count": 11,
          "metadata": {},
          "output_type": "execute_result"
        }
      ],
      "source": [
        "# Looking at stroke frequency among \"Unknown\" smokers\n",
        "df.loc[df['smoking_status'] == 'Unknown']['stroke'].value_counts()"
      ]
    },
    {
      "cell_type": "markdown",
      "metadata": {},
      "source": [
        "### Category observations\n",
        "* Gender: \"Other\" found in one row. There is not enough of a sample size to determine correlations here so the decision to drop the row was made.\n",
        "\n",
        "* Smoking: Large number of \"Unkown\" smokers. Considering the medical literature around smoking increasing risk of stroke, I want to keep the smoking_status column in. I have decided to leave \"Unknown\" as-is, pending model performance."
      ]
    },
    {
      "cell_type": "markdown",
      "metadata": {},
      "source": [
        "# Analysis"
      ]
    },
    {
      "cell_type": "markdown",
      "metadata": {},
      "source": [
        "## Features"
      ]
    },
    {
      "cell_type": "code",
      "execution_count": 12,
      "metadata": {},
      "outputs": [],
      "source": [
        "# Import modules for data visualization\n",
        "import matplotlib.pyplot as plt\n",
        "import seaborn as sns\n",
        "\n",
        "# Setting up filters\n",
        "# Opted positive and negative filters over '~' operator for readability\n",
        "stroke_positive = df['stroke'] == 1\n",
        "stroke_negative = df['stroke'] == 0\n",
        "\n",
        "gender_male   = df['gender'] == 'Male'\n",
        "gender_female = df['gender'] == 'Female'\n",
        "\n",
        "hypertension_positive = df['hypertension'] == 1\n",
        "hypertension_negative = df['hypertension'] == 0\n",
        "\n",
        "adult = df['age'] > 18"
      ]
    },
    {
      "cell_type": "code",
      "execution_count": 13,
      "metadata": {},
      "outputs": [
        {
          "name": "stdout",
          "output_type": "stream",
          "text": [
            "Features to Evaluate:\n",
            "\n",
            "gender\n",
            "age\n",
            "hypertension\n",
            "heart_disease\n",
            "ever_married\n",
            "work_type\n",
            "Residence_type\n",
            "avg_glucose_level\n",
            "bmi\n",
            "smoking_status\n"
          ]
        }
      ],
      "source": [
        "# List all the features\n",
        "print(\"Features to Evaluate:\\n\")\n",
        "for column in df.drop(columns='stroke').columns:\n",
        "    print(column)"
      ]
    },
    {
      "cell_type": "code",
      "execution_count": 14,
      "metadata": {},
      "outputs": [
        {
          "data": {
            "text/html": [
              "<div>\n",
              "<style scoped>\n",
              "    .dataframe tbody tr th:only-of-type {\n",
              "        vertical-align: middle;\n",
              "    }\n",
              "\n",
              "    .dataframe tbody tr th {\n",
              "        vertical-align: top;\n",
              "    }\n",
              "\n",
              "    .dataframe thead th {\n",
              "        text-align: right;\n",
              "    }\n",
              "</style>\n",
              "<table border=\"1\" class=\"dataframe\">\n",
              "  <thead>\n",
              "    <tr style=\"text-align: right;\">\n",
              "      <th></th>\n",
              "      <th>age</th>\n",
              "      <th>hypertension</th>\n",
              "      <th>heart_disease</th>\n",
              "      <th>avg_glucose_level</th>\n",
              "      <th>bmi</th>\n",
              "      <th>stroke</th>\n",
              "    </tr>\n",
              "  </thead>\n",
              "  <tbody>\n",
              "    <tr>\n",
              "      <th>count</th>\n",
              "      <td>4908.000000</td>\n",
              "      <td>4908.000000</td>\n",
              "      <td>4908.000000</td>\n",
              "      <td>4908.000000</td>\n",
              "      <td>4908.00000</td>\n",
              "      <td>4908.000000</td>\n",
              "    </tr>\n",
              "    <tr>\n",
              "      <th>mean</th>\n",
              "      <td>42.868810</td>\n",
              "      <td>0.091891</td>\n",
              "      <td>0.049511</td>\n",
              "      <td>105.297402</td>\n",
              "      <td>28.89456</td>\n",
              "      <td>0.042584</td>\n",
              "    </tr>\n",
              "    <tr>\n",
              "      <th>std</th>\n",
              "      <td>22.556128</td>\n",
              "      <td>0.288901</td>\n",
              "      <td>0.216954</td>\n",
              "      <td>44.425550</td>\n",
              "      <td>7.85432</td>\n",
              "      <td>0.201937</td>\n",
              "    </tr>\n",
              "    <tr>\n",
              "      <th>min</th>\n",
              "      <td>0.080000</td>\n",
              "      <td>0.000000</td>\n",
              "      <td>0.000000</td>\n",
              "      <td>55.120000</td>\n",
              "      <td>10.30000</td>\n",
              "      <td>0.000000</td>\n",
              "    </tr>\n",
              "    <tr>\n",
              "      <th>25%</th>\n",
              "      <td>25.000000</td>\n",
              "      <td>0.000000</td>\n",
              "      <td>0.000000</td>\n",
              "      <td>77.067500</td>\n",
              "      <td>23.50000</td>\n",
              "      <td>0.000000</td>\n",
              "    </tr>\n",
              "    <tr>\n",
              "      <th>50%</th>\n",
              "      <td>44.000000</td>\n",
              "      <td>0.000000</td>\n",
              "      <td>0.000000</td>\n",
              "      <td>91.680000</td>\n",
              "      <td>28.10000</td>\n",
              "      <td>0.000000</td>\n",
              "    </tr>\n",
              "    <tr>\n",
              "      <th>75%</th>\n",
              "      <td>60.000000</td>\n",
              "      <td>0.000000</td>\n",
              "      <td>0.000000</td>\n",
              "      <td>113.495000</td>\n",
              "      <td>33.10000</td>\n",
              "      <td>0.000000</td>\n",
              "    </tr>\n",
              "    <tr>\n",
              "      <th>max</th>\n",
              "      <td>82.000000</td>\n",
              "      <td>1.000000</td>\n",
              "      <td>1.000000</td>\n",
              "      <td>271.740000</td>\n",
              "      <td>97.60000</td>\n",
              "      <td>1.000000</td>\n",
              "    </tr>\n",
              "  </tbody>\n",
              "</table>\n",
              "</div>"
            ],
            "text/plain": [
              "               age  hypertension  heart_disease  avg_glucose_level  \\\n",
              "count  4908.000000   4908.000000    4908.000000        4908.000000   \n",
              "mean     42.868810      0.091891       0.049511         105.297402   \n",
              "std      22.556128      0.288901       0.216954          44.425550   \n",
              "min       0.080000      0.000000       0.000000          55.120000   \n",
              "25%      25.000000      0.000000       0.000000          77.067500   \n",
              "50%      44.000000      0.000000       0.000000          91.680000   \n",
              "75%      60.000000      0.000000       0.000000         113.495000   \n",
              "max      82.000000      1.000000       1.000000         271.740000   \n",
              "\n",
              "              bmi       stroke  \n",
              "count  4908.00000  4908.000000  \n",
              "mean     28.89456     0.042584  \n",
              "std       7.85432     0.201937  \n",
              "min      10.30000     0.000000  \n",
              "25%      23.50000     0.000000  \n",
              "50%      28.10000     0.000000  \n",
              "75%      33.10000     0.000000  \n",
              "max      97.60000     1.000000  "
            ]
          },
          "execution_count": 14,
          "metadata": {},
          "output_type": "execute_result"
        }
      ],
      "source": [
        "# Inspect numerical data for analysis\n",
        "df.describe()"
      ]
    },
    {
      "cell_type": "markdown",
      "metadata": {},
      "source": [
        "### Gender"
      ]
    },
    {
      "cell_type": "code",
      "execution_count": 15,
      "metadata": {},
      "outputs": [
        {
          "data": {
            "image/png": "[encoded data removed]",
            "text/plain": [
              "<Figure size 432x288 with 1 Axes>"
            ]
          },
          "metadata": {
            "needs_background": "light"
          },
          "output_type": "display_data"
        }
      ],
      "source": [
        "sns.countplot(data = df, x = 'gender', color='Green')\n",
        "plt.ylabel(\"Individuals\")\n",
        "plt.title(\"Gender Balance\");"
      ]
    },
    {
      "cell_type": "code",
      "execution_count": 16,
      "metadata": {},
      "outputs": [
        {
          "data": {
            "text/html": [
              "<div>\n",
              "<style scoped>\n",
              "    .dataframe tbody tr th:only-of-type {\n",
              "        vertical-align: middle;\n",
              "    }\n",
              "\n",
              "    .dataframe tbody tr th {\n",
              "        vertical-align: top;\n",
              "    }\n",
              "\n",
              "    .dataframe thead th {\n",
              "        text-align: right;\n",
              "    }\n",
              "</style>\n",
              "<table border=\"1\" class=\"dataframe\">\n",
              "  <thead>\n",
              "    <tr style=\"text-align: right;\">\n",
              "      <th></th>\n",
              "      <th>gender</th>\n",
              "    </tr>\n",
              "    <tr>\n",
              "      <th>stroke</th>\n",
              "      <th></th>\n",
              "    </tr>\n",
              "  </thead>\n",
              "  <tbody>\n",
              "    <tr>\n",
              "      <th>0</th>\n",
              "      <td>2777</td>\n",
              "    </tr>\n",
              "    <tr>\n",
              "      <th>1</th>\n",
              "      <td>120</td>\n",
              "    </tr>\n",
              "  </tbody>\n",
              "</table>\n",
              "</div>"
            ],
            "text/plain": [
              "        gender\n",
              "stroke        \n",
              "0         2777\n",
              "1          120"
            ]
          },
          "execution_count": 16,
          "metadata": {},
          "output_type": "execute_result"
        }
      ],
      "source": [
        "# Group female gender by stroke\n",
        "df[['stroke', 'gender']].loc[gender_female].groupby('stroke').count()"
      ]
    },
    {
      "cell_type": "code",
      "execution_count": 17,
      "metadata": {},
      "outputs": [
        {
          "data": {
            "text/html": [
              "<div>\n",
              "<style scoped>\n",
              "    .dataframe tbody tr th:only-of-type {\n",
              "        vertical-align: middle;\n",
              "    }\n",
              "\n",
              "    .dataframe tbody tr th {\n",
              "        vertical-align: top;\n",
              "    }\n",
              "\n",
              "    .dataframe thead th {\n",
              "        text-align: right;\n",
              "    }\n",
              "</style>\n",
              "<table border=\"1\" class=\"dataframe\">\n",
              "  <thead>\n",
              "    <tr style=\"text-align: right;\">\n",
              "      <th></th>\n",
              "      <th>gender</th>\n",
              "    </tr>\n",
              "    <tr>\n",
              "      <th>stroke</th>\n",
              "      <th></th>\n",
              "    </tr>\n",
              "  </thead>\n",
              "  <tbody>\n",
              "    <tr>\n",
              "      <th>0</th>\n",
              "      <td>1922</td>\n",
              "    </tr>\n",
              "    <tr>\n",
              "      <th>1</th>\n",
              "      <td>89</td>\n",
              "    </tr>\n",
              "  </tbody>\n",
              "</table>\n",
              "</div>"
            ],
            "text/plain": [
              "        gender\n",
              "stroke        \n",
              "0         1922\n",
              "1           89"
            ]
          },
          "execution_count": 17,
          "metadata": {},
          "output_type": "execute_result"
        }
      ],
      "source": [
        "# Group male gender by stroke\n",
        "df[['stroke', 'gender']].loc[gender_male].groupby('stroke').count()"
      ]
    },
    {
      "cell_type": "markdown",
      "metadata": {},
      "source": [
        "Gender observations:\n",
        "* Larger Female sample set\n",
        "* No initially noticable correlation with gender and stroke risk"
      ]
    },
    {
      "cell_type": "markdown",
      "metadata": {},
      "source": [
        "### Age"
      ]
    },
    {
      "cell_type": "code",
      "execution_count": 18,
      "metadata": {},
      "outputs": [
        {
          "data": {
            "image/png": "[encoded data removed]",
            "text/plain": [
              "<Figure size 432x288 with 1 Axes>"
            ]
          },
          "metadata": {
            "needs_background": "light"
          },
          "output_type": "display_data"
        }
      ],
      "source": [
        "sns.histplot(data=df, x='age', hue='stroke')\n",
        "plt.title(\"Age Distribution\");"
      ]
    },
    {
      "cell_type": "code",
      "execution_count": 19,
      "metadata": {},
      "outputs": [
        {
          "data": {
            "image/png": "[encoded data removed]",
            "text/plain": [
              "<Figure size 432x144 with 1 Axes>"
            ]
          },
          "metadata": {
            "needs_background": "light"
          },
          "output_type": "display_data"
        }
      ],
      "source": [
        "plt.figure(figsize=(6, 2))\n",
        "sns.boxplot(data=df, x='age')\n",
        "plt.title(\"Age Boxplot\");"
      ]
    },
    {
      "cell_type": "code",
      "execution_count": 20,
      "metadata": {},
      "outputs": [
        {
          "data": {
            "image/png": "[encoded data removed]",
            "text/plain": [
              "<Figure size 432x144 with 1 Axes>"
            ]
          },
          "metadata": {
            "needs_background": "light"
          },
          "output_type": "display_data"
        }
      ],
      "source": [
        "plt.figure(figsize=(6, 2))\n",
        "sns.boxplot(data=df.loc[stroke_positive], x='age')\n",
        "plt.xlabel(\"Age of Stroke Victim\");"
      ]
    },
    {
      "cell_type": "code",
      "execution_count": 21,
      "metadata": {},
      "outputs": [
        {
          "data": {
            "text/html": [
              "<div>\n",
              "<style scoped>\n",
              "    .dataframe tbody tr th:only-of-type {\n",
              "        vertical-align: middle;\n",
              "    }\n",
              "\n",
              "    .dataframe tbody tr th {\n",
              "        vertical-align: top;\n",
              "    }\n",
              "\n",
              "    .dataframe thead th {\n",
              "        text-align: right;\n",
              "    }\n",
              "</style>\n",
              "<table border=\"1\" class=\"dataframe\">\n",
              "  <thead>\n",
              "    <tr style=\"text-align: right;\">\n",
              "      <th></th>\n",
              "      <th>gender</th>\n",
              "      <th>age</th>\n",
              "      <th>hypertension</th>\n",
              "      <th>heart_disease</th>\n",
              "      <th>ever_married</th>\n",
              "      <th>work_type</th>\n",
              "      <th>Residence_type</th>\n",
              "      <th>avg_glucose_level</th>\n",
              "      <th>bmi</th>\n",
              "      <th>smoking_status</th>\n",
              "      <th>stroke</th>\n",
              "    </tr>\n",
              "    <tr>\n",
              "      <th>id</th>\n",
              "      <th></th>\n",
              "      <th></th>\n",
              "      <th></th>\n",
              "      <th></th>\n",
              "      <th></th>\n",
              "      <th></th>\n",
              "      <th></th>\n",
              "      <th></th>\n",
              "      <th></th>\n",
              "      <th></th>\n",
              "      <th></th>\n",
              "    </tr>\n",
              "  </thead>\n",
              "  <tbody>\n",
              "    <tr>\n",
              "      <th>49669</th>\n",
              "      <td>Female</td>\n",
              "      <td>14.0</td>\n",
              "      <td>0</td>\n",
              "      <td>0</td>\n",
              "      <td>No</td>\n",
              "      <td>children</td>\n",
              "      <td>Rural</td>\n",
              "      <td>57.93</td>\n",
              "      <td>30.9</td>\n",
              "      <td>Unknown</td>\n",
              "      <td>1</td>\n",
              "    </tr>\n",
              "  </tbody>\n",
              "</table>\n",
              "</div>"
            ],
            "text/plain": [
              "       gender   age  hypertension  heart_disease ever_married work_type  \\\n",
              "id                                                                        \n",
              "49669  Female  14.0             0              0           No  children   \n",
              "\n",
              "      Residence_type  avg_glucose_level   bmi smoking_status  stroke  \n",
              "id                                                                    \n",
              "49669          Rural              57.93  30.9        Unknown       1  "
            ]
          },
          "execution_count": 21,
          "metadata": {},
          "output_type": "execute_result"
        }
      ],
      "source": [
        "# Looking at young victim outlier\n",
        "df.loc[(df['age'] < 30) & stroke_positive]"
      ]
    },
    {
      "cell_type": "markdown",
      "metadata": {},
      "source": [
        "Age observations:\n",
        "\n",
        "* Age distribution is reasonable\n",
        "* There seems to be a decent correlation between older age and stroke risk\n",
        "* Outlier found in a 14 year-old stroke victim\n",
        "  * Decision to keep outlier was made based on patient's glucose level being very low possibly driving the stroke factor\n",
        "  * Medical journal article suggesting low glucose therapies as a risk factor: https://pubmed.ncbi.nlm.nih.gov/28522196/\n",
        "  * Possible diabetic diagnosis"
      ]
    },
    {
      "cell_type": "markdown",
      "metadata": {},
      "source": [
        "### Hypertension"
      ]
    },
    {
      "cell_type": "code",
      "execution_count": 22,
      "metadata": {},
      "outputs": [
        {
          "data": {
            "image/png": "[encoded data removed]",
            "text/plain": [
              "<Figure size 432x288 with 1 Axes>"
            ]
          },
          "metadata": {
            "needs_background": "light"
          },
          "output_type": "display_data"
        }
      ],
      "source": [
        "sns.countplot(data = df, x = 'hypertension')\n",
        "plt.title(\"Hypertension Balance\");"
      ]
    },
    {
      "cell_type": "code",
      "execution_count": 23,
      "metadata": {},
      "outputs": [
        {
          "data": {
            "image/png": "[encoded data removed]",
            "text/plain": [
              "<Figure size 432x288 with 1 Axes>"
            ]
          },
          "metadata": {
            "needs_background": "light"
          },
          "output_type": "display_data"
        }
      ],
      "source": [
        "sns.countplot(data=df.loc[hypertension_positive], x='stroke')\n",
        "plt.title(\"Hypertension by Stroke\");"
      ]
    },
    {
      "cell_type": "markdown",
      "metadata": {},
      "source": [
        "Hypertension Observations:\n",
        "* Small connection between hypertension positive and stroke\n",
        "* Feature is not balanced"
      ]
    },
    {
      "cell_type": "markdown",
      "metadata": {},
      "source": [
        "### Heart Disease"
      ]
    },
    {
      "cell_type": "code",
      "execution_count": 24,
      "metadata": {},
      "outputs": [
        {
          "data": {
            "image/png": "[encoded data removed]",
            "text/plain": [
              "<Figure size 432x288 with 1 Axes>"
            ]
          },
          "metadata": {
            "needs_background": "light"
          },
          "output_type": "display_data"
        }
      ],
      "source": [
        "sns.countplot(data = df, x = 'heart_disease')\n",
        "plt.title(\"Heart Disease Balance\");"
      ]
    },
    {
      "cell_type": "code",
      "execution_count": 25,
      "metadata": {},
      "outputs": [
        {
          "data": {
            "image/png": "[encoded data removed]",
            "text/plain": [
              "<Figure size 432x288 with 1 Axes>"
            ]
          },
          "metadata": {
            "needs_background": "light"
          },
          "output_type": "display_data"
        }
      ],
      "source": [
        "sns.countplot(data=df.loc[stroke_positive], x='heart_disease')\n",
        "plt.title(\"Heart Disease in Stroke Victims\");"
      ]
    },
    {
      "cell_type": "markdown",
      "metadata": {},
      "source": [
        "Heart Disease Observations:\n",
        "* Connection betwen heart disease and stroke\n",
        "* Feature is not balanced"
      ]
    },
    {
      "cell_type": "markdown",
      "metadata": {},
      "source": [
        "### Ever Married"
      ]
    },
    {
      "cell_type": "code",
      "execution_count": 26,
      "metadata": {},
      "outputs": [
        {
          "data": {
            "text/html": [
              "<div>\n",
              "<style scoped>\n",
              "    .dataframe tbody tr th:only-of-type {\n",
              "        vertical-align: middle;\n",
              "    }\n",
              "\n",
              "    .dataframe tbody tr th {\n",
              "        vertical-align: top;\n",
              "    }\n",
              "\n",
              "    .dataframe thead th {\n",
              "        text-align: right;\n",
              "    }\n",
              "</style>\n",
              "<table border=\"1\" class=\"dataframe\">\n",
              "  <thead>\n",
              "    <tr style=\"text-align: right;\">\n",
              "      <th></th>\n",
              "      <th>stroke</th>\n",
              "    </tr>\n",
              "    <tr>\n",
              "      <th>ever_married</th>\n",
              "      <th></th>\n",
              "    </tr>\n",
              "  </thead>\n",
              "  <tbody>\n",
              "    <tr>\n",
              "      <th>No</th>\n",
              "      <td>23</td>\n",
              "    </tr>\n",
              "    <tr>\n",
              "      <th>Yes</th>\n",
              "      <td>186</td>\n",
              "    </tr>\n",
              "  </tbody>\n",
              "</table>\n",
              "</div>"
            ],
            "text/plain": [
              "              stroke\n",
              "ever_married        \n",
              "No                23\n",
              "Yes              186"
            ]
          },
          "execution_count": 26,
          "metadata": {},
          "output_type": "execute_result"
        }
      ],
      "source": [
        "df[['ever_married', 'stroke']].groupby('ever_married').sum()"
      ]
    },
    {
      "cell_type": "code",
      "execution_count": 27,
      "metadata": {},
      "outputs": [
        {
          "data": {
            "image/png": "[encoded data removed]",
            "text/plain": [
              "<Figure size 432x288 with 1 Axes>"
            ]
          },
          "metadata": {
            "needs_background": "light"
          },
          "output_type": "display_data"
        }
      ],
      "source": [
        "sns.countplot(data = df.loc[adult & stroke_positive], x = 'ever_married')\n",
        "plt.title(\"Stroke Victims by Marriage\")\n",
        "plt.xlabel(\"Marriage History\")\n",
        "plt.xticks([0, 1], ['Married', 'Unmarried']);"
      ]
    },
    {
      "cell_type": "code",
      "execution_count": 28,
      "metadata": {},
      "outputs": [
        {
          "data": {
            "image/png": "[encoded data removed]",
            "text/plain": [
              "<Figure size 432x288 with 1 Axes>"
            ]
          },
          "metadata": {
            "needs_background": "light"
          },
          "output_type": "display_data"
        }
      ],
      "source": [
        "sns.countplot(data=df.loc[adult & stroke_negative], x='ever_married')\n",
        "plt.title(\"Stroke Negatives by Marriage\")\n",
        "plt.xlabel(\"Marriage History\")\n",
        "plt.xticks([0, 1], ['Married', 'Unmarried']);"
      ]
    },
    {
      "cell_type": "code",
      "execution_count": 65,
      "metadata": {},
      "outputs": [
        {
          "data": {
            "text/plain": [
              "Text(0, 0.5, 'Number of Individuals')"
            ]
          },
          "execution_count": 65,
          "metadata": {},
          "output_type": "execute_result"
        },
        {
          "data": {
            "image/png": "[encoded data removed]",
            "text/plain": [
              "<Figure size 432x288 with 1 Axes>"
            ]
          },
          "metadata": {
            "needs_background": "light"
          },
          "output_type": "display_data"
        }
      ],
      "source": [
        "sns.histplot(\n",
        "                data=df, x='age',\n",
        "                hue='ever_married', \n",
        "                multiple='stack', \n",
        "                bins=20, \n",
        "                shrink=1,\n",
        "                element='poly',\n",
        "                binrange=[0, 80],\n",
        "                binwidth=5,\n",
        "                palette='magma'\n",
        "            )\n",
        "\n",
        "plt.legend(loc='upper left', labels=['Never Married', 'Married'])\n",
        "plt.title(\"Ever Married by Age\")\n",
        "plt.xlabel(\"Age\")\n",
        "plt.ylabel(\"Number of Individuals\")"
      ]
    },
    {
      "cell_type": "markdown",
      "metadata": {},
      "source": [
        "Ever Married Observations:\n",
        "* Marriage/stroke connection should be controlled for 'age' considering this data set has nobody married below the age of 18\n",
        "* Connection between being married and risk of stroke\n",
        "  * This contradicts some studies, additional analysis might be needed\n",
        "  * Sample study showing contradiction: https://heart.bmj.com/content/104/23/1937\n",
        "* Marriage status at time of stroke would probably be more valuable as a feature\n",
        "  * Unmarried, Married, Widowed, or Divorced as examples\n",
        "* Consider evaluating model with and without ever_married feature"
      ]
    },
    {
      "cell_type": "markdown",
      "metadata": {},
      "source": [
        "### Work Type"
      ]
    },
    {
      "cell_type": "code",
      "execution_count": 30,
      "metadata": {},
      "outputs": [
        {
          "data": {
            "image/png": "[encoded data removed]",
            "text/plain": [
              "<Figure size 432x288 with 1 Axes>"
            ]
          },
          "metadata": {
            "needs_background": "light"
          },
          "output_type": "display_data"
        }
      ],
      "source": [
        "sns.countplot(data = df, x = 'work_type')\n",
        "plt.title(\"Distribution of Types of Work\");"
      ]
    },
    {
      "cell_type": "markdown",
      "metadata": {},
      "source": [
        "Work Type Observations:\n",
        "* Never Worked sample size is small\n",
        "* Private is several-fold more common than other work types"
      ]
    },
    {
      "cell_type": "markdown",
      "metadata": {},
      "source": [
        "### Rural or Urban Residence"
      ]
    },
    {
      "cell_type": "code",
      "execution_count": 31,
      "metadata": {},
      "outputs": [
        {
          "data": {
            "image/png": "[encoded data removed]",
            "text/plain": [
              "<Figure size 432x288 with 1 Axes>"
            ]
          },
          "metadata": {
            "needs_background": "light"
          },
          "output_type": "display_data"
        }
      ],
      "source": [
        "sns.countplot(data = df, x = 'Residence_type')\n",
        "plt.title(\"Rural VS Urban Residence Balance\");"
      ]
    },
    {
      "cell_type": "code",
      "execution_count": 32,
      "metadata": {},
      "outputs": [
        {
          "data": {
            "image/png": "[encoded data removed]",
            "text/plain": [
              "<Figure size 432x288 with 1 Axes>"
            ]
          },
          "metadata": {
            "needs_background": "light"
          },
          "output_type": "display_data"
        }
      ],
      "source": [
        "sns.countplot(data = df, x = 'Residence_type', hue='stroke')\n",
        "plt.title(\"Rural VS Urban by Stroke Diagnosis\");"
      ]
    },
    {
      "cell_type": "markdown",
      "metadata": {},
      "source": [
        "Residence Type Observation:\n",
        "* Good balance of feature present"
      ]
    },
    {
      "cell_type": "markdown",
      "metadata": {},
      "source": [
        "### Average Glucose Level"
      ]
    },
    {
      "cell_type": "code",
      "execution_count": 33,
      "metadata": {},
      "outputs": [
        {
          "data": {
            "image/png": "[encoded data removed]",
            "text/plain": [
              "<Figure size 432x144 with 1 Axes>"
            ]
          },
          "metadata": {
            "needs_background": "light"
          },
          "output_type": "display_data"
        }
      ],
      "source": [
        "plt.figure(figsize=(6,2))\n",
        "sns.boxplot(data = df, x = 'avg_glucose_level')\n",
        "plt.title(\"Average Glucose Level Distribution\");"
      ]
    },
    {
      "cell_type": "code",
      "execution_count": 34,
      "metadata": {},
      "outputs": [
        {
          "data": {
            "image/png": "[encoded data removed]",
            "text/plain": [
              "<Figure size 432x288 with 1 Axes>"
            ]
          },
          "metadata": {
            "needs_background": "light"
          },
          "output_type": "display_data"
        }
      ],
      "source": [
        "sns.histplot(data=df, x='avg_glucose_level');"
      ]
    },
    {
      "cell_type": "code",
      "execution_count": 35,
      "metadata": {},
      "outputs": [
        {
          "data": {
            "text/html": [
              "<div>\n",
              "<style scoped>\n",
              "    .dataframe tbody tr th:only-of-type {\n",
              "        vertical-align: middle;\n",
              "    }\n",
              "\n",
              "    .dataframe tbody tr th {\n",
              "        vertical-align: top;\n",
              "    }\n",
              "\n",
              "    .dataframe thead th {\n",
              "        text-align: right;\n",
              "    }\n",
              "</style>\n",
              "<table border=\"1\" class=\"dataframe\">\n",
              "  <thead>\n",
              "    <tr style=\"text-align: right;\">\n",
              "      <th></th>\n",
              "      <th>gender</th>\n",
              "      <th>age</th>\n",
              "      <th>hypertension</th>\n",
              "      <th>heart_disease</th>\n",
              "      <th>ever_married</th>\n",
              "      <th>work_type</th>\n",
              "      <th>Residence_type</th>\n",
              "      <th>avg_glucose_level</th>\n",
              "      <th>bmi</th>\n",
              "      <th>smoking_status</th>\n",
              "      <th>stroke</th>\n",
              "    </tr>\n",
              "    <tr>\n",
              "      <th>id</th>\n",
              "      <th></th>\n",
              "      <th></th>\n",
              "      <th></th>\n",
              "      <th></th>\n",
              "      <th></th>\n",
              "      <th></th>\n",
              "      <th></th>\n",
              "      <th></th>\n",
              "      <th></th>\n",
              "      <th></th>\n",
              "      <th></th>\n",
              "    </tr>\n",
              "  </thead>\n",
              "  <tbody>\n",
              "    <tr>\n",
              "      <th>71279</th>\n",
              "      <td>Female</td>\n",
              "      <td>71.0</td>\n",
              "      <td>0</td>\n",
              "      <td>0</td>\n",
              "      <td>Yes</td>\n",
              "      <td>Govt_job</td>\n",
              "      <td>Urban</td>\n",
              "      <td>263.32</td>\n",
              "      <td>38.7</td>\n",
              "      <td>never smoked</td>\n",
              "      <td>1</td>\n",
              "    </tr>\n",
              "    <tr>\n",
              "      <th>69112</th>\n",
              "      <td>Male</td>\n",
              "      <td>68.0</td>\n",
              "      <td>1</td>\n",
              "      <td>1</td>\n",
              "      <td>Yes</td>\n",
              "      <td>Private</td>\n",
              "      <td>Rural</td>\n",
              "      <td>271.74</td>\n",
              "      <td>31.1</td>\n",
              "      <td>smokes</td>\n",
              "      <td>1</td>\n",
              "    </tr>\n",
              "    <tr>\n",
              "      <th>22440</th>\n",
              "      <td>Female</td>\n",
              "      <td>49.0</td>\n",
              "      <td>0</td>\n",
              "      <td>0</td>\n",
              "      <td>Yes</td>\n",
              "      <td>Private</td>\n",
              "      <td>Urban</td>\n",
              "      <td>267.76</td>\n",
              "      <td>29.3</td>\n",
              "      <td>formerly smoked</td>\n",
              "      <td>0</td>\n",
              "    </tr>\n",
              "    <tr>\n",
              "      <th>27626</th>\n",
              "      <td>Female</td>\n",
              "      <td>60.0</td>\n",
              "      <td>0</td>\n",
              "      <td>0</td>\n",
              "      <td>No</td>\n",
              "      <td>Govt_job</td>\n",
              "      <td>Rural</td>\n",
              "      <td>266.59</td>\n",
              "      <td>25.5</td>\n",
              "      <td>never smoked</td>\n",
              "      <td>0</td>\n",
              "    </tr>\n",
              "    <tr>\n",
              "      <th>26267</th>\n",
              "      <td>Female</td>\n",
              "      <td>76.0</td>\n",
              "      <td>0</td>\n",
              "      <td>0</td>\n",
              "      <td>Yes</td>\n",
              "      <td>Self-employed</td>\n",
              "      <td>Urban</td>\n",
              "      <td>267.61</td>\n",
              "      <td>27.9</td>\n",
              "      <td>smokes</td>\n",
              "      <td>0</td>\n",
              "    </tr>\n",
              "    <tr>\n",
              "      <th>13155</th>\n",
              "      <td>Female</td>\n",
              "      <td>67.0</td>\n",
              "      <td>1</td>\n",
              "      <td>0</td>\n",
              "      <td>Yes</td>\n",
              "      <td>Govt_job</td>\n",
              "      <td>Rural</td>\n",
              "      <td>263.56</td>\n",
              "      <td>26.3</td>\n",
              "      <td>never smoked</td>\n",
              "      <td>0</td>\n",
              "    </tr>\n",
              "    <tr>\n",
              "      <th>50070</th>\n",
              "      <td>Female</td>\n",
              "      <td>62.0</td>\n",
              "      <td>1</td>\n",
              "      <td>0</td>\n",
              "      <td>Yes</td>\n",
              "      <td>Self-employed</td>\n",
              "      <td>Rural</td>\n",
              "      <td>261.67</td>\n",
              "      <td>43.0</td>\n",
              "      <td>formerly smoked</td>\n",
              "      <td>0</td>\n",
              "    </tr>\n",
              "    <tr>\n",
              "      <th>10995</th>\n",
              "      <td>Male</td>\n",
              "      <td>76.0</td>\n",
              "      <td>1</td>\n",
              "      <td>0</td>\n",
              "      <td>Yes</td>\n",
              "      <td>Private</td>\n",
              "      <td>Rural</td>\n",
              "      <td>267.60</td>\n",
              "      <td>30.5</td>\n",
              "      <td>never smoked</td>\n",
              "      <td>0</td>\n",
              "    </tr>\n",
              "  </tbody>\n",
              "</table>\n",
              "</div>"
            ],
            "text/plain": [
              "       gender   age  hypertension  heart_disease ever_married      work_type  \\\n",
              "id                                                                             \n",
              "71279  Female  71.0             0              0          Yes       Govt_job   \n",
              "69112    Male  68.0             1              1          Yes        Private   \n",
              "22440  Female  49.0             0              0          Yes        Private   \n",
              "27626  Female  60.0             0              0           No       Govt_job   \n",
              "26267  Female  76.0             0              0          Yes  Self-employed   \n",
              "13155  Female  67.0             1              0          Yes       Govt_job   \n",
              "50070  Female  62.0             1              0          Yes  Self-employed   \n",
              "10995    Male  76.0             1              0          Yes        Private   \n",
              "\n",
              "      Residence_type  avg_glucose_level   bmi   smoking_status  stroke  \n",
              "id                                                                      \n",
              "71279          Urban             263.32  38.7     never smoked       1  \n",
              "69112          Rural             271.74  31.1           smokes       1  \n",
              "22440          Urban             267.76  29.3  formerly smoked       0  \n",
              "27626          Rural             266.59  25.5     never smoked       0  \n",
              "26267          Urban             267.61  27.9           smokes       0  \n",
              "13155          Rural             263.56  26.3     never smoked       0  \n",
              "50070          Rural             261.67  43.0  formerly smoked       0  \n",
              "10995          Rural             267.60  30.5     never smoked       0  "
            ]
          },
          "execution_count": 35,
          "metadata": {},
          "output_type": "execute_result"
        }
      ],
      "source": [
        "# Checking outliers found in the above 260 range\n",
        "df.loc[df['avg_glucose_level'] > 260].head(10)"
      ]
    },
    {
      "cell_type": "markdown",
      "metadata": {},
      "source": [
        "Average Blood Glucose Levels Observations:\n",
        "* Healthy fasting glucose is typically between 70 and 130, 1-2 hours after eating can be up to 180\n",
        "  * source: https://www.endocrineweb.com/conditions/hyperglycemia/hyperglycemia-when-your-blood-glucose-level-goes-too-high\n",
        "* 2nd and 3rd quartiles seem to fit into fasting range fairly neatly\n",
        "* Consider filtering into three groups in reports\n",
        "  * low    < 70\n",
        "  * normal = 70-130\n",
        "  * high   > 130"
      ]
    },
    {
      "cell_type": "markdown",
      "metadata": {},
      "source": [
        "### BMI"
      ]
    },
    {
      "cell_type": "code",
      "execution_count": 36,
      "metadata": {},
      "outputs": [
        {
          "data": {
            "image/png": "[encoded data removed]",
            "text/plain": [
              "<Figure size 432x144 with 1 Axes>"
            ]
          },
          "metadata": {
            "needs_background": "light"
          },
          "output_type": "display_data"
        }
      ],
      "source": [
        "plt.figure(figsize=(6,2))\n",
        "sns.boxplot( data = df, x = 'bmi')\n",
        "plt.title(\"BMI Distribution\");"
      ]
    },
    {
      "cell_type": "code",
      "execution_count": 37,
      "metadata": {},
      "outputs": [
        {
          "data": {
            "text/html": [
              "<div>\n",
              "<style scoped>\n",
              "    .dataframe tbody tr th:only-of-type {\n",
              "        vertical-align: middle;\n",
              "    }\n",
              "\n",
              "    .dataframe tbody tr th {\n",
              "        vertical-align: top;\n",
              "    }\n",
              "\n",
              "    .dataframe thead th {\n",
              "        text-align: right;\n",
              "    }\n",
              "</style>\n",
              "<table border=\"1\" class=\"dataframe\">\n",
              "  <thead>\n",
              "    <tr style=\"text-align: right;\">\n",
              "      <th></th>\n",
              "      <th>gender</th>\n",
              "      <th>age</th>\n",
              "      <th>hypertension</th>\n",
              "      <th>heart_disease</th>\n",
              "      <th>ever_married</th>\n",
              "      <th>work_type</th>\n",
              "      <th>Residence_type</th>\n",
              "      <th>avg_glucose_level</th>\n",
              "      <th>bmi</th>\n",
              "      <th>smoking_status</th>\n",
              "      <th>stroke</th>\n",
              "    </tr>\n",
              "    <tr>\n",
              "      <th>id</th>\n",
              "      <th></th>\n",
              "      <th></th>\n",
              "      <th></th>\n",
              "      <th></th>\n",
              "      <th></th>\n",
              "      <th></th>\n",
              "      <th></th>\n",
              "      <th></th>\n",
              "      <th></th>\n",
              "      <th></th>\n",
              "      <th></th>\n",
              "    </tr>\n",
              "  </thead>\n",
              "  <tbody>\n",
              "    <tr>\n",
              "      <th>545</th>\n",
              "      <td>Male</td>\n",
              "      <td>42.0</td>\n",
              "      <td>0</td>\n",
              "      <td>0</td>\n",
              "      <td>Yes</td>\n",
              "      <td>Private</td>\n",
              "      <td>Rural</td>\n",
              "      <td>210.48</td>\n",
              "      <td>71.9</td>\n",
              "      <td>never smoked</td>\n",
              "      <td>0</td>\n",
              "    </tr>\n",
              "    <tr>\n",
              "      <th>41097</th>\n",
              "      <td>Female</td>\n",
              "      <td>23.0</td>\n",
              "      <td>1</td>\n",
              "      <td>0</td>\n",
              "      <td>No</td>\n",
              "      <td>Private</td>\n",
              "      <td>Urban</td>\n",
              "      <td>70.03</td>\n",
              "      <td>78.0</td>\n",
              "      <td>smokes</td>\n",
              "      <td>0</td>\n",
              "    </tr>\n",
              "    <tr>\n",
              "      <th>56420</th>\n",
              "      <td>Male</td>\n",
              "      <td>17.0</td>\n",
              "      <td>1</td>\n",
              "      <td>0</td>\n",
              "      <td>No</td>\n",
              "      <td>Private</td>\n",
              "      <td>Rural</td>\n",
              "      <td>61.67</td>\n",
              "      <td>97.6</td>\n",
              "      <td>Unknown</td>\n",
              "      <td>0</td>\n",
              "    </tr>\n",
              "    <tr>\n",
              "      <th>51856</th>\n",
              "      <td>Male</td>\n",
              "      <td>38.0</td>\n",
              "      <td>1</td>\n",
              "      <td>0</td>\n",
              "      <td>Yes</td>\n",
              "      <td>Private</td>\n",
              "      <td>Rural</td>\n",
              "      <td>56.90</td>\n",
              "      <td>92.0</td>\n",
              "      <td>never smoked</td>\n",
              "      <td>0</td>\n",
              "    </tr>\n",
              "  </tbody>\n",
              "</table>\n",
              "</div>"
            ],
            "text/plain": [
              "       gender   age  hypertension  heart_disease ever_married work_type  \\\n",
              "id                                                                        \n",
              "545      Male  42.0             0              0          Yes   Private   \n",
              "41097  Female  23.0             1              0           No   Private   \n",
              "56420    Male  17.0             1              0           No   Private   \n",
              "51856    Male  38.0             1              0          Yes   Private   \n",
              "\n",
              "      Residence_type  avg_glucose_level   bmi smoking_status  stroke  \n",
              "id                                                                    \n",
              "545            Rural             210.48  71.9   never smoked       0  \n",
              "41097          Urban              70.03  78.0         smokes       0  \n",
              "56420          Rural              61.67  97.6        Unknown       0  \n",
              "51856          Rural              56.90  92.0   never smoked       0  "
            ]
          },
          "execution_count": 37,
          "metadata": {},
          "output_type": "execute_result"
        }
      ],
      "source": [
        "df.loc[df['bmi'] > 70].head(10)"
      ]
    },
    {
      "cell_type": "markdown",
      "metadata": {},
      "source": [
        "BMI Observations:\n",
        "* Healthy BMI is considered to be 18.5 - 24.9\n",
        "  * Source: https://www.cdc.gov/healthyweight/assessing/bmi/adult_bmi/index.html\n",
        "  * Source also notes BMI is not a direct measurements of body fat or health\n",
        "* The 2nd and 3rd quartile seems to fit a little over \"healthy\" weight\n",
        "* Outliers aren't impossible, though uncommon, so the decision was made to keep them\n"
      ]
    },
    {
      "cell_type": "markdown",
      "metadata": {},
      "source": [
        "### Smoking Status"
      ]
    },
    {
      "cell_type": "code",
      "execution_count": 38,
      "metadata": {},
      "outputs": [
        {
          "data": {
            "image/png": "[encoded data removed]",
            "text/plain": [
              "<Figure size 432x288 with 1 Axes>"
            ]
          },
          "metadata": {
            "needs_background": "light"
          },
          "output_type": "display_data"
        }
      ],
      "source": [
        "sns.countplot(data = df, x = 'smoking_status', hue='stroke')\n",
        "plt.xlabel(\"Smoking Status\")\n",
        "plt.ylabel(\"Number of Individuals\")\n",
        "plt.title(\"Smoking Status Distribution\");"
      ]
    },
    {
      "cell_type": "code",
      "execution_count": 40,
      "metadata": {},
      "outputs": [
        {
          "data": {
            "image/png": "[encoded data removed]",
            "text/plain": [
              "<Figure size 576x432 with 1 Axes>"
            ]
          },
          "metadata": {
            "needs_background": "light"
          },
          "output_type": "display_data"
        }
      ],
      "source": [
        "plt.figure(figsize=(8,6))\n",
        "\n",
        "sns.histplot(\n",
        "                data=df, x='age',\n",
        "                hue='smoking_status', \n",
        "                multiple='stack', \n",
        "                bins=20, \n",
        "                shrink=1,\n",
        "                element='poly',\n",
        "                binrange=[0, 80],\n",
        "                binwidth=5,\n",
        "                label=['Unknown', 'Never', 'Former', 'Current'],\n",
        "                palette='Purples'\n",
        "            )\n",
        "\n",
        "plt.title(\"Smoking Status by Age\")\n",
        "plt.legend(loc='upper left', labels = ['Unknown', 'Never Smoked', 'Former Smoker', 'Current Smoker'], title='Smoking Status')\n",
        "plt.xlabel(\"Age\")\n",
        "plt.ylabel(\"Count\")\n",
        "plt.ylim(0, 450)\n",
        "plt.grid(linestyle='--', linewidth=0.5, color='grey', alpha=0.5)"
      ]
    },
    {
      "cell_type": "markdown",
      "metadata": {},
      "source": [
        "Smoking Status Observations:\n",
        "* \"Unknown\" might be reliabily interpreteted as \"never smoked\" given the correlation to younger ages\n",
        "* Consider experimenting with mapping \"Unknown\" to \"never_smoked\" or \"too young to smoke\"\n",
        "  * If mapping to \"too young\", be sure select a reasonable age such as 0-16 for the new category"
      ]
    },
    {
      "cell_type": "markdown",
      "metadata": {},
      "source": [
        "## Target\n",
        "\n",
        "### Has the individual had a stroke?"
      ]
    },
    {
      "cell_type": "code",
      "execution_count": 41,
      "metadata": {},
      "outputs": [
        {
          "data": {
            "image/png": "[encoded data removed]",
            "text/plain": [
              "<Figure size 432x288 with 1 Axes>"
            ]
          },
          "metadata": {
            "needs_background": "light"
          },
          "output_type": "display_data"
        }
      ],
      "source": [
        "sns.countplot(data = df, x = 'stroke')\n",
        "plt.xticks(ticks=[0, 1], labels=['No Stoke', 'Stroke'])\n",
        "plt.xlabel(\"\")\n",
        "plt.ylabel(\"Number of Individuals\")\n",
        "plt.title(\"Stroke Distribution\");"
      ]
    },
    {
      "cell_type": "code",
      "execution_count": 42,
      "metadata": {},
      "outputs": [
        {
          "data": {
            "image/png": "[encoded data removed]",
            "text/plain": [
              "<Figure size 432x432 with 1 Axes>"
            ]
          },
          "metadata": {},
          "output_type": "display_data"
        }
      ],
      "source": [
        "plt.figure(facecolor='#FFFFFF', figsize=(6, 6))\n",
        "pie_labels = ['No Stroke\\n(95.74%)', 'Stroke\\n(4.26%)']\n",
        "pie_colors = ['#003F5C', '#FFA600']\n",
        "plt.pie(df['stroke'].value_counts(), labels=pie_labels, colors=pie_colors, explode = (0, 0.3), pctdistance=0.6);"
      ]
    },
    {
      "cell_type": "code",
      "execution_count": 43,
      "metadata": {},
      "outputs": [
        {
          "data": {
            "text/plain": [
              "0    4699\n",
              "1     209\n",
              "Name: stroke, dtype: int64"
            ]
          },
          "execution_count": 43,
          "metadata": {},
          "output_type": "execute_result"
        }
      ],
      "source": [
        "df['stroke'].value_counts()"
      ]
    },
    {
      "cell_type": "markdown",
      "metadata": {},
      "source": [
        "Target Observations:\n",
        "* Target set is unbalanced towards no stroke\n",
        "  * Consider dropping stroke-negative rows to help balance\n",
        "  * Ensure stratify is configured during train/test split"
      ]
    },
    {
      "cell_type": "markdown",
      "metadata": {},
      "source": [
        "## Correlation Heatmap"
      ]
    },
    {
      "cell_type": "code",
      "execution_count": 44,
      "metadata": {},
      "outputs": [
        {
          "data": {
            "image/png": "[encoded data removed]",
            "text/plain": [
              "<Figure size 432x288 with 2 Axes>"
            ]
          },
          "metadata": {
            "needs_background": "light"
          },
          "output_type": "display_data"
        }
      ],
      "source": [
        "sns.heatmap(data = df.corr(), cmap = 'Purples', annot = True);"
      ]
    },
    {
      "cell_type": "markdown",
      "metadata": {},
      "source": [
        "Correlation Observation:\n",
        "* No strong correlations found\n",
        "  * This is probably likely due to target balance\n",
        "  * Consider addressing balance issue before continuing\n",
        "* BMI had the weakest correlation\n",
        "  * Likely due to the metric not being a direct measurement of body fat or health\n",
        "  * Consider dropping BMI to see how it affects model performance\n",
        "  * If BMI is dropped, consider keeping rows dropped earlier in the cleaning phase\n",
        "* Age had the strongest correlation"
      ]
    },
    {
      "cell_type": "markdown",
      "metadata": {},
      "source": [
        "# Machine Learning Evaluation"
      ]
    },
    {
      "cell_type": "code",
      "execution_count": 45,
      "metadata": {},
      "outputs": [],
      "source": [
        "# Import modules for machine learning preprocessing\n",
        "from sklearn.compose import make_column_selector, make_column_transformer\n",
        "from sklearn.model_selection import train_test_split\n",
        "from sklearn.pipeline import make_pipeline\n",
        "from sklearn.preprocessing import StandardScaler, OneHotEncoder"
      ]
    },
    {
      "cell_type": "code",
      "execution_count": 46,
      "metadata": {},
      "outputs": [],
      "source": [
        "# Split the data into feature and target sets, then split into training and testing sets\n",
        "X = df.drop(columns='stroke')\n",
        "y = df['stroke']\n",
        "\n",
        "# Change ever_married feature to binary\n",
        "X.loc[X['ever_married'] == 'Yes', 'ever_married'] = 1\n",
        "X.loc[X['ever_married'] == 'No', 'ever_married'] = 0\n",
        "\n",
        "X_train, X_test, y_train, y_test = train_test_split(X, y, random_state = 27, stratify = y)"
      ]
    },
    {
      "cell_type": "code",
      "execution_count": 47,
      "metadata": {},
      "outputs": [],
      "source": [
        "# Create a pipeline to standardize the features\n",
        "scaler  = StandardScaler()\n",
        "one_hot = OneHotEncoder(sparse = False, handle_unknown = 'ignore')\n",
        "\n",
        "num_selector = make_column_selector(dtype_include = 'number')\n",
        "cat_selector = make_column_selector(dtype_include = 'object')\n",
        "\n",
        "column_transformer = make_column_transformer( (scaler, num_selector), (one_hot, cat_selector) );"
      ]
    },
    {
      "cell_type": "markdown",
      "metadata": {},
      "source": [
        "# Apply the preprocessing pipeline to the training and testing sets\n",
        "X_train_proc = preprocessing_pipe.fit_transform(X_train)\n",
        "X_test_proc  = preprocessing_pipe.transform(X_test)"
      ]
    },
    {
      "cell_type": "code",
      "execution_count": 48,
      "metadata": {},
      "outputs": [],
      "source": [
        "# Import modules for machine learning models and scoring\n",
        "from sklearn.ensemble import RandomForestClassifier, GradientBoostingClassifier\n",
        "from sklearn.neighbors import KNeighborsClassifier\n",
        "from sklearn.linear_model import LogisticRegression\n",
        "from sklearn.metrics import accuracy_score, classification_report, recall_score"
      ]
    },
    {
      "cell_type": "code",
      "execution_count": 49,
      "metadata": {},
      "outputs": [],
      "source": [
        "# Create function to evaluate accuracy and recall of model\n",
        "def eval_model(model, X_train, X_test, y_train, y_test):\n",
        "    model.fit(X_train, y_train)\n",
        "\n",
        "    y_train_pred = model.predict(X_train)\n",
        "    y_test_pred  = model.predict(X_test)\n",
        "\n",
        "    train_accuracy = accuracy_score(y_train, y_train_pred)\n",
        "    train_recall = recall_score(y_train, y_train_pred)\n",
        "\n",
        "    test_accuracy = accuracy_score(y_test, y_test_pred)\n",
        "    test_recall = recall_score(y_test, y_test_pred)\n",
        "\n",
        "    print(\"Training Accuracy:\", train_accuracy)\n",
        "    print(\"Training Recall:  \", train_recall)\n",
        "    print(\"Testing Accuracy: \", test_accuracy)\n",
        "    print(\"Testing Recall:   \", test_recall)\n",
        "\n",
        "# Create function to evaluate several models using eval_model\n",
        "def eval_models(model_dict, X_train, X_test, y_train, y_test):\n",
        "    for name, model in model_dict.items():\n",
        "        print(\"Evaluating:\", name)\n",
        "\n",
        "        model.fit(X_train, y_train)\n",
        "        y_train_pred = model.predict(X_train)\n",
        "        y_test_pred  = model.predict(X_test)\n",
        "\n",
        "        train_accuracy = accuracy_score(y_train, y_train_pred)\n",
        "        train_recall = recall_score(y_train, y_train_pred)\n",
        "\n",
        "        test_accuracy = accuracy_score(y_test, y_test_pred)\n",
        "        test_recall = recall_score(y_test, y_test_pred)\n",
        "\n",
        "        print(\"Training Accuracy:\", train_accuracy)\n",
        "        print(\"Training Recall:  \", train_recall)\n",
        "        print(\"Testing Accuracy: \", test_accuracy)\n",
        "        print(\"Testing Recall:   \", test_recall)\n",
        "        print(\"\\n\")\n",
        "        "
      ]
    },
    {
      "cell_type": "code",
      "execution_count": 50,
      "metadata": {},
      "outputs": [],
      "source": [
        "log_pipe = make_pipeline(column_transformer, LogisticRegression())\n",
        "knn_pipe = make_pipeline(column_transformer, KNeighborsClassifier(n_neighbors=3))\n",
        "rf_pipe  = make_pipeline(column_transformer, RandomForestClassifier(n_estimators=100))\n",
        "gbc_pipe = make_pipeline(column_transformer, GradientBoostingClassifier(n_estimators=100))\n",
        "\n",
        "model_dict = { 'Logistic Regression': log_pipe,\n",
        "               'KNN': knn_pipe,\n",
        "               'Random Forest': rf_pipe,\n",
        "               'Gradient Boosting': gbc_pipe }"
      ]
    },
    {
      "cell_type": "code",
      "execution_count": 51,
      "metadata": {},
      "outputs": [
        {
          "name": "stdout",
          "output_type": "stream",
          "text": [
            "Evaluating: Logistic Regression\n",
            "Training Accuracy: 0.9573485465906004\n",
            "Training Recall:   0.0\n",
            "Testing Accuracy:  0.9576202118989405\n",
            "Testing Recall:    0.0\n",
            "\n",
            "\n",
            "Evaluating: KNN\n",
            "Training Accuracy: 0.9603368649823417\n",
            "Training Recall:   0.14012738853503184\n",
            "Testing Accuracy:  0.9519152404237978\n",
            "Testing Recall:    0.0\n",
            "\n",
            "\n",
            "Evaluating: Random Forest\n",
            "Training Accuracy: 0.9997283346916599\n",
            "Training Recall:   0.9936305732484076\n",
            "Testing Accuracy:  0.9576202118989405\n",
            "Testing Recall:    0.019230769230769232\n",
            "\n",
            "\n",
            "Evaluating: Gradient Boosting\n",
            "Training Accuracy: 0.9644118446074437\n",
            "Training Recall:   0.16560509554140126\n",
            "Testing Accuracy:  0.9559902200488998\n",
            "Testing Recall:    0.019230769230769232\n",
            "\n",
            "\n"
          ]
        }
      ],
      "source": [
        "eval_models(model_dict, X_train, X_test, y_train, y_test)"
      ]
    },
    {
      "cell_type": "markdown",
      "metadata": {},
      "source": [
        "## Model Evaluation Observation\n",
        "* All models had issues predicting if the patient had a stroke\n",
        "* Model performance is likely due to the data set being imbalanced\n",
        "Reccomendation: Attempt to use over-sampling to correct for lack of data"
      ]
    },
    {
      "cell_type": "code",
      "execution_count": 52,
      "metadata": {},
      "outputs": [],
      "source": [
        "# Import module for imbalanced data correction\n",
        "# https://imbalanced-learn.org/stable/over_sampling.html\n",
        "from imblearn.over_sampling import RandomOverSampler\n",
        "\n",
        "ros = RandomOverSampler(random_state = 27)\n",
        "X_train_resampled, y_train_resampled = ros.fit_resample(X_train, y_train)"
      ]
    },
    {
      "cell_type": "code",
      "execution_count": 53,
      "metadata": {},
      "outputs": [
        {
          "name": "stdout",
          "output_type": "stream",
          "text": [
            "Evaluating: Logistic Regression\n",
            "Training Accuracy: 0.7729852440408627\n",
            "Training Recall:   0.8144154370034052\n",
            "Testing Accuracy:  0.726161369193154\n",
            "Testing Recall:    0.8653846153846154\n",
            "\n",
            "\n",
            "Evaluating: KNN\n",
            "Training Accuracy: 0.978433598183882\n",
            "Training Recall:   1.0\n",
            "Testing Accuracy:  0.9038304808475958\n",
            "Testing Recall:    0.15384615384615385\n",
            "\n",
            "\n",
            "Evaluating: Random Forest\n",
            "Training Accuracy: 1.0\n",
            "Training Recall:   1.0\n",
            "Testing Accuracy:  0.954360228198859\n",
            "Testing Recall:    0.057692307692307696\n",
            "\n",
            "\n",
            "Evaluating: Gradient Boosting\n",
            "Training Accuracy: 0.8935868331441543\n",
            "Training Recall:   0.9574347332576617\n",
            "Testing Accuracy:  0.7938060309698451\n",
            "Testing Recall:    0.5192307692307693\n",
            "\n",
            "\n"
          ]
        }
      ],
      "source": [
        "eval_models(model_dict, X_train_resampled, X_test, y_train_resampled, y_test)"
      ]
    },
    {
      "cell_type": "markdown",
      "metadata": {},
      "source": [
        "## Model Evaluation With Resampling Observations\n",
        "* All models performed much better with resampling\n",
        "* Hyperparameter tuning will likely yield slightly better results\n",
        "* Logistic Regression and Gradient Boosting models performed the best out of the selection"
      ]
    },
    {
      "cell_type": "markdown",
      "metadata": {},
      "source": [
        "## Hyperparameter Tuning\n",
        "The following models were selected based off of their performance without tuning. This will evaluate a final selection for production.\n",
        "* Logistic Regression\n",
        "* Gradient Boosting Models"
      ]
    },
    {
      "cell_type": "code",
      "execution_count": 54,
      "metadata": {},
      "outputs": [],
      "source": [
        "# Import module for tuning hyperparameters\n",
        "from sklearn.model_selection import GridSearchCV\n",
        "\n",
        "# Define function to run classification reports with training and testing sets\n",
        "def model_report(model):\n",
        "    print(\" Training Report\\n\", ('=' * 40))\n",
        "    print(classification_report(y_train_resampled, model.predict(X_train_resampled), target_names = ['No', 'Yes']))\n",
        "    print(\" Testing Report\\n\", ('=' * 40))\n",
        "    print(classification_report(y_test, model.predict(X_test), target_names = ['No', 'Yes']))"
      ]
    },
    {
      "cell_type": "markdown",
      "metadata": {},
      "source": [
        "### Logistic Regression Tuning and Evaluation"
      ]
    },
    {
      "cell_type": "code",
      "execution_count": 55,
      "metadata": {},
      "outputs": [
        {
          "name": "stdout",
          "output_type": "stream",
          "text": [
            "{'logisticregression__C': 0.001, 'logisticregression__max_iter': 1000, 'logisticregression__penalty': 'l2', 'logisticregression__solver': 'lbfgs'}\n"
          ]
        }
      ],
      "source": [
        "# Logistic Regression parameter grid\n",
        "log_reg_param_grid = [\n",
        "                        {   'logisticregression__max_iter': [1000],\n",
        "                            'logisticregression__solver':   ['lbfgs', 'newton-cg'],\n",
        "                            'logisticregression__penalty':  ['l2'],\n",
        "                            'logisticregression__C':        [0.0001, 0.001, 0.01, 0.1, 1.0, 10, 100, 1000], \n",
        "                        },\n",
        "                        {   'logisticregression__max_iter': [1000],\n",
        "                            'logisticregression__solver':   ['lbfgs', 'newton-cg'],\n",
        "                            'logisticregression__penalty':  ['none'],\n",
        "                        },\n",
        "                        {\n",
        "                            'logisticregression__max_iter': [1000],\n",
        "                            'logisticregression__solver':   ['liblinear'],\n",
        "                            'logisticregression__penalty':  ['l1', 'l2'],\n",
        "                            'logisticregression__C':        [0.0001, 0.001, 0.01, 0.1, 1, 10, 100, 1000]\n",
        "                        }\n",
        "                    ]\n",
        "\n",
        "log_reg_grid = GridSearchCV(log_pipe, log_reg_param_grid, scoring='f1')\n",
        "log_reg_grid.fit(X_train_resampled, y_train_resampled)\n",
        "\n",
        "print(log_reg_grid.best_params_)"
      ]
    },
    {
      "cell_type": "code",
      "execution_count": 56,
      "metadata": {},
      "outputs": [
        {
          "name": "stdout",
          "output_type": "stream",
          "text": [
            " Training Report\n",
            " ========================================\n",
            "              precision    recall  f1-score   support\n",
            "\n",
            "          No       0.81      0.72      0.76      3524\n",
            "         Yes       0.75      0.83      0.79      3524\n",
            "\n",
            "    accuracy                           0.77      7048\n",
            "   macro avg       0.78      0.77      0.77      7048\n",
            "weighted avg       0.78      0.77      0.77      7048\n",
            "\n",
            " Testing Report\n",
            " ========================================\n",
            "              precision    recall  f1-score   support\n",
            "\n",
            "          No       0.99      0.71      0.83      1175\n",
            "         Yes       0.12      0.87      0.21        52\n",
            "\n",
            "    accuracy                           0.72      1227\n",
            "   macro avg       0.55      0.79      0.52      1227\n",
            "weighted avg       0.95      0.72      0.80      1227\n",
            "\n"
          ]
        }
      ],
      "source": [
        "best_log = log_reg_grid.best_estimator_\n",
        "model_report(best_log)"
      ]
    },
    {
      "cell_type": "markdown",
      "metadata": {},
      "source": [
        "### Gradient Boosting Tuning and Evaluation"
      ]
    },
    {
      "cell_type": "code",
      "execution_count": 57,
      "metadata": {},
      "outputs": [
        {
          "name": "stdout",
          "output_type": "stream",
          "text": [
            "{'gradientboostingclassifier__max_depth': 15, 'gradientboostingclassifier__max_features': 4, 'gradientboostingclassifier__n_estimators': 150}\n"
          ]
        }
      ],
      "source": [
        "# Gradient Boosting parameter grid\n",
        "gbc_param_grid = { 'gradientboostingclassifier__max_depth':      [10, 13, 15],\n",
        "                   'gradientboostingclassifier__n_estimators':   [150, 200],\n",
        "                   'gradientboostingclassifier__max_features': [3, 4]}\n",
        "\n",
        "gbc_grid = GridSearchCV(gbc_pipe, gbc_param_grid, scoring='f1')\n",
        "gbc_grid.fit(X_train_resampled, y_train_resampled)\n",
        "\n",
        "print(gbc_grid.best_params_)"
      ]
    },
    {
      "cell_type": "code",
      "execution_count": 58,
      "metadata": {},
      "outputs": [
        {
          "name": "stdout",
          "output_type": "stream",
          "text": [
            " Training Report\n",
            " ========================================\n",
            "              precision    recall  f1-score   support\n",
            "\n",
            "          No       1.00      1.00      1.00      3524\n",
            "         Yes       1.00      1.00      1.00      3524\n",
            "\n",
            "    accuracy                           1.00      7048\n",
            "   macro avg       1.00      1.00      1.00      7048\n",
            "weighted avg       1.00      1.00      1.00      7048\n",
            "\n",
            " Testing Report\n",
            " ========================================\n",
            "              precision    recall  f1-score   support\n",
            "\n",
            "          No       0.96      1.00      0.98      1175\n",
            "         Yes       0.33      0.02      0.04        52\n",
            "\n",
            "    accuracy                           0.96      1227\n",
            "   macro avg       0.65      0.51      0.51      1227\n",
            "weighted avg       0.93      0.96      0.94      1227\n",
            "\n"
          ]
        }
      ],
      "source": [
        "# Use the best parameters found by GridSearchCV\n",
        "best_gbc = gbc_grid.best_estimator_\n",
        "model_report(best_gbc)"
      ]
    },
    {
      "cell_type": "markdown",
      "metadata": {},
      "source": [
        "# Model Selection"
      ]
    },
    {
      "cell_type": "markdown",
      "metadata": {},
      "source": [
        "## Logistic Regression Selection\n",
        "* Recall of Strokes prioritized\n",
        "  * Since the purpose of this model is to predict stroke risk, identifying a patient as a false positive might still show value\n",
        "  * Missing stroke risk would be substantially more risky than getting a False Positive\n",
        "* Logistic Regression outperformed GBC in most metrics, F1 score was the final deciding metric\n",
        "* Model performance was harmed by imbalance of data\n",
        "  * Consider different splitting techniques\n",
        "  * Consider feature engineering to improve performance\n",
        "  * Consider dropping BMI for low correlation"
      ]
    }
  ],
  "metadata": {
    "colab": {
      "authorship_tag": "ABX9TyPzg4ObqRafW5fYaCg9D0YA",
      "include_colab_link": true,
      "mount_file_id": "1OnE1YvLCAKciJMusVtWEXx9ZIcGOM-_B",
      "name": "Stroke_Prediction.ipynb",
      "provenance": []
    },
    "kernelspec": {
      "display_name": "Python 3",
      "name": "python3"
    },
    "language_info": {
      "codemirror_mode": {
        "name": "ipython",
        "version": 3
      },
      "file_extension": ".py",
      "mimetype": "text/x-python",
      "name": "python",
      "nbconvert_exporter": "python",
      "pygments_lexer": "ipython3",
      "version": "3.9.7"
    }
  },
  "nbformat": 4,
  "nbformat_minor": 0
}
